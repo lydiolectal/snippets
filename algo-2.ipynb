{
 "cells": [
  {
   "cell_type": "markdown",
   "metadata": {},
   "source": [
    "## Week 1: Graph Search and Connectivity\n",
    "\n",
    "### Graphs?!?\n",
    "\n",
    "This week is all about graphs, graphs, graphs. I can't say that I particularly like graphs. This probably stems from my confusion regarding how best to represent them; unlike lists, dictionaries (hash maps, hash tables), stacks, and queues, there is no built-in representation for graphs in Python. I either have to grow my own (adjacency lists, matrices, or some hairy object that stores both vertices by edge and edges by vertex) or use a pre-made implementation. I went with the latter (networkx) for the minimum cuts problem set at the end of Part I, but that felt too much like cheating, too. Will I ever be asked to work with adjacency matrices? How would I even implement a graph? Before I get to these complicated questions, though, I'm just going to make a simple adjacency list representation using a dictionary, as per Guido van Rossum's suggestion for graph representation.\n",
    "\n",
    "### Bread(th)-First Search\n",
    "\n",
    "I'll start with Breadth-First Search, which is a simple, elegant algorithm that runs in linear time $O(m+n)$ and allows one to do things such as:\n",
    "1. Ascertain whether there is a path between a node s and another node v. For instance, are Jon Hamm and Kevin Bacon connected via movie co-actors?\n",
    "2. Find the shortest path from node s and node v, given that such a path exists. Again, how many degrees of separation are there between Jon Hamm and Kevin Bacon? It turns out that the answer is 2 (I would actually really like to do a crawl of IMDB that graphs relationships between various actors, just for fun).\n",
    "3. Compute the connected components of a graph. That is, if a graph is *not* connected, this algorithm allows us to find the various pieces of a graph. Are all actors traceable to Kevin Bacon? Do all roads lead to Rome?\n",
    "\n",
    "Anyways, without further ado, an implementation of breadth-first search that finds the shortest path between two nodes:"
   ]
  },
  {
   "cell_type": "code",
   "execution_count": 12,
   "metadata": {},
   "outputs": [
    {
     "name": "stdout",
     "output_type": "stream",
     "text": [
      "s\n",
      "a\n",
      "b\n",
      "c\n",
      "d\n",
      "e\n"
     ]
    }
   ],
   "source": [
    "# Node object. Stores the node content, a boolean corresponding to whether it's been explored already,\n",
    "# and the distance between it and the start node.\n",
    "\n",
    "class Node:\n",
    "    \n",
    "    def __init__(self, content):\n",
    "        self.content = content\n",
    "        self.explored = False\n",
    "        self.distance = 0\n",
    "        self.neighbors = []\n",
    "    \n",
    "    def get_distance(self):\n",
    "        return self.distance\n",
    "    \n",
    "    def is_explored(self):\n",
    "        return self.explored\n",
    "    \n",
    "    def mark_as_explored(self):\n",
    "        self.explored = True\n",
    "    \n",
    "    def set_distance(self, distance):\n",
    "        self.distance = distance\n",
    "        \n",
    "    def add_neighbors(self, *args):\n",
    "        for neighbor in args:\n",
    "            self.neighbors.append(neighbor)\n",
    "    \n",
    "    def get_neighbors(self):\n",
    "        return self.neighbors\n",
    "\n",
    "# setting up the graph.\n",
    "s = Node(\"s\")\n",
    "a = Node(\"a\")\n",
    "b = Node(\"b\")\n",
    "c = Node(\"c\")\n",
    "d = Node(\"d\")\n",
    "e = Node(\"e\")\n",
    "\n",
    "s.add_neighbors(a, b)\n",
    "a.add_neighbors(s, c)\n",
    "b.add_neighbors(s, c, d)\n",
    "c.add_neighbors(a, e, b, d)\n",
    "d.add_neighbors(b, c, e)\n",
    "e.add_neighbors(c, d)\n",
    "\n",
    "# BFS! just prints traversal order from start node.\n",
    "from collections import deque\n",
    "def bfs(start):\n",
    "    queue = deque([])\n",
    "    queue.append(start)\n",
    "    start.mark_as_explored()\n",
    "    while len(queue) > 0:\n",
    "        curNode = queue.popleft()\n",
    "        print(curNode.content)\n",
    "        for neighbor in curNode.get_neighbors():\n",
    "            if not neighbor.is_explored():\n",
    "                queue.append(neighbor)\n",
    "                neighbor.mark_as_explored()\n",
    "\n",
    "bfs(s)\n",
    "    \n",
    "# BFS that returns minimum distance between two nodes."
   ]
  },
  {
   "cell_type": "markdown",
   "metadata": {},
   "source": [
    "Random thought: isn't it nuts how humans are able to reason about such abstract concepts, and that we often employ concrete items in order to do so? For instance, the object Node above 'stores' its incident edges in an array, and yet I and others understand that this is represents a graph, another extremely abstract concept consisting of things called 'nodes' and other things called 'edges' that are connected in various combinations. And yet the picture in my mind is always a bunch of circles with lines drawn between them to represent the 'edges' that connect them. What? "
   ]
  },
  {
   "cell_type": "markdown",
   "metadata": {},
   "source": [
    "### Depth-First Search"
   ]
  },
  {
   "cell_type": "code",
   "execution_count": null,
   "metadata": {},
   "outputs": [],
   "source": []
  }
 ],
 "metadata": {
  "kernelspec": {
   "display_name": "Python 3",
   "language": "python",
   "name": "python3"
  },
  "language_info": {
   "codemirror_mode": {
    "name": "ipython",
    "version": 3
   },
   "file_extension": ".py",
   "mimetype": "text/x-python",
   "name": "python",
   "nbconvert_exporter": "python",
   "pygments_lexer": "ipython3",
   "version": "3.6.4"
  }
 },
 "nbformat": 4,
 "nbformat_minor": 2
}
