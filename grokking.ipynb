{
 "cells": [
  {
   "cell_type": "markdown",
   "metadata": {},
   "source": [
    "# Grokking Algorithms Notes\n",
    "Lydia Ding. 01/25/17 - "
   ]
  },
  {
   "cell_type": "markdown",
   "metadata": {},
   "source": [
    "## Chapter 1: Binary Search\n",
    "\n",
    "Conceptualizes binary search in terms of a guessing game in which you can get feedback about whether your number is too high or too low. Binary search is much the same way (assuming a sorted array list): we state our 'guess' as the midpoint of the array. If it's the item we're looking for, great! Otherwise, we search the latter half of the array if the value is higher than the midpoint, and the first half if it's lower."
   ]
  },
  {
   "cell_type": "code",
   "execution_count": null,
   "metadata": {},
   "outputs": [],
   "source": [
    "# Implementation of binary-search, iterative.\n",
    "\n",
    "def binSearch(arr, item):\n",
    "    low = 0\n",
    "    high = len(arr)-1\n",
    "    \n",
    "    while low <= high:\n",
    "        mid = (low + high) // 2\n",
    "        guess = arr[mid]\n",
    "        if item == guess:\n",
    "            return mid\n",
    "        elif item < guess:\n",
    "            high = mid - 1\n",
    "        else:\n",
    "            low = mid + 1       \n",
    "    return None\n",
    "\n",
    "arr = [1, 3, 4, 6, 7, 10, 45, 78, 82, 109, 110, 445, 446, 450, 801, 900, 903]\n",
    "print(binSearch(arr, 900))\n",
    "print(binSearch(arr, 1000))\n",
    "    "
   ]
  },
  {
   "cell_type": "markdown",
   "metadata": {},
   "source": [
    "Important concept: Big-O analysis and notation. "
   ]
  },
  {
   "cell_type": "markdown",
   "metadata": {},
   "source": [
    "## Chapter 2: Arrays and Lists\n",
    "01/30/18\n",
    "\n",
    "Arrays are better at some things, linked lists at others. We can think of placing arrays in memory like seating friends together at a movie; we need to find a continuous sequence of seats for the friends, and if we want room for additional friends, we must either save extra seats from the beginning (wasteful in memory, rude irl) or move to a new place each time more friends come. \n",
    "\n",
    "The good thing about arrays is that lookup time is fast -- the index can be translated directly into the address in memory. The bad thing? Every time we add a new thing or delete an old thing, we have to shift the whole darn thing. Lookup: O(1). Insertion, deletion: O(n).\n",
    "\n",
    "Linked lists are exactly the opposite. It takes forever to find something (O(n)), because in order to find the ith item one must traverse i nodes. Insertion, deletion: O(1). Shifting doesn't need to happen; we just redirect the relevant pointers. One thing I'm unsure about: what happens when we need to delete an item at list[i]? Wouldn't lookup alone cost us O(n) anyways?\n",
    "\n",
    "One more thing: Linked lists are also more memory efficient than array lists.\n",
    "\n",
    "I may give linked list implementation a try; it's a pretty intriguing concept. \n",
    "\n",
    "## Chapter 2: Selection sort\n",
    "01/30/18\n",
    "\n",
    "While it isn't a particularly fast sorting algorithm (in fact, it's probably as slow as can be), it's a classic for conceptualizing the problem of sorting. Let's implement."
   ]
  },
  {
   "cell_type": "code",
   "execution_count": 19,
   "metadata": {},
   "outputs": [
    {
     "name": "stdout",
     "output_type": "stream",
     "text": [
      "[0, 1, 2, 3, 4, 5, 6, 7, 8, 9, 10, 11, 12, 13, 14, 15, 16, 17, 18, 19, 20, 21, 22, 23, 24, 25, 26, 27, 28, 29]\n",
      "[0, 1, 2, 3, 4, 5, 6, 7, 8, 9, 10, 11, 12, 13, 14, 15, 16, 17, 18, 19, 20, 21, 22, 23, 24, 25, 26, 27, 28, 29]\n"
     ]
    }
   ],
   "source": [
    "# selection sort.\n",
    "\n",
    "def selectionSort(arr):\n",
    "    sortedArr = []\n",
    "    # maybe I'm indulging a bit too much in the fact that Python [] == False.\n",
    "    while arr:\n",
    "        smallestIndex = 0\n",
    "        for i in range(len(arr)):\n",
    "            if arr[i] < arr[smallestIndex]: smallestIndex = i\n",
    "        # snazzy pop function.\n",
    "        sortedArr.append(arr.pop(smallestIndex))\n",
    "        \n",
    "    return sortedArr\n",
    "\n",
    "# insertion sort, because why not?\n",
    "# Assumes a non-empty array.\n",
    "\n",
    "def insertionSort(arr):\n",
    "    # divider between sorted and unsorted portions of array\n",
    "    sortIndex = 1\n",
    "    while sortIndex < len(arr):\n",
    "        curItem = arr[sortIndex]\n",
    "        # default to the last item in case the item we're inserting really is the largest in the sorted section.\n",
    "        insertIndex = sortIndex\n",
    "        for i in range(sortIndex):\n",
    "            if arr[i] > curItem:\n",
    "                insertIndex = i\n",
    "                break\n",
    "        # remove the item we're looking to insert.\n",
    "        arr.pop(sortIndex)\n",
    "        # insert the item at insertIndex.\n",
    "        arr = arr[:insertIndex] + [curItem] + arr[insertIndex:]\n",
    "        sortIndex += 1\n",
    "    return arr\n",
    "\n",
    "from random import shuffle\n",
    "\n",
    "# tests with random lists.\n",
    "arr = [i for i in range(30)]\n",
    "shuffle(arr)\n",
    "print(selectionSort(arr))\n",
    "\n",
    "arr = [i for i in range(30)]\n",
    "shuffle(arr)\n",
    "print(insertionSort(arr))"
   ]
  },
  {
   "cell_type": "markdown",
   "metadata": {},
   "source": [
    "## Chapter 3: Recursion and the Stack\n",
    "01/30/18\n",
    "\n",
    "As we all know (I can afford to be smug here in my own notes lol), recursive functions have 2 parts: a recursive case and a base case. \n",
    "\n",
    "Recursive calls -- or any calls to functions in the middle of other functions -- take up space on the call stack. A call to a function adds a call onto the stack; return of a function pops it from the stack. Stacks take up memory!\n",
    "\n",
    "I like this quote: Recursion may achieve a performance gain for your programmer. So true! Yay recursion."
   ]
  },
  {
   "cell_type": "code",
   "execution_count": 27,
   "metadata": {},
   "outputs": [
    {
     "name": "stdout",
     "output_type": "stream",
     "text": [
      "9\n",
      "8\n",
      "7\n",
      "6\n",
      "5\n",
      "4\n",
      "3\n",
      "2\n",
      "1\n",
      "0\n",
      "120\n",
      "120\n"
     ]
    }
   ],
   "source": [
    "# countdown function that counts down integers recursively rather than iteratively.\n",
    "# assumes non-negative input, although it will print once for negative input.\n",
    "def countdown(n):\n",
    "    if n < 1:\n",
    "        print(str(n))\n",
    "    else:\n",
    "        print(str(n))\n",
    "        countdown(n - 1)\n",
    "\n",
    "countdown(9)\n",
    "\n",
    "# Recursive factorial function for funsies.\n",
    "def factorial(n):\n",
    "    if n < 2: return 1\n",
    "    else: return n * factorial(n-1)\n",
    "\n",
    "# Tail-recursive factorial function for funsies.\n",
    "def factorialTail(n, curFact):\n",
    "    if n < 2: return curFact\n",
    "    else: return factorialTail(n - 1, curFact * n)\n",
    "\n",
    "print(factorial(5))\n",
    "print(factorialTail(5, 1))"
   ]
  },
  {
   "cell_type": "markdown",
   "metadata": {},
   "source": [
    "## Chapter 4: Divide and Conquer, Quicksort\n",
    "01/30/18\n",
    "\n",
    "On a rolllll.\n",
    "\n",
    "The essence of divide and conquer:\n",
    "1. Figure out a simple case as your base case.\n",
    "2. Find a way to reduce your problem and get to the base case. \n",
    "\n",
    "With that in mind, let's try cooking up some Divide and Conquer-flavored solutions to some simple problems."
   ]
  },
  {
   "cell_type": "code",
   "execution_count": 42,
   "metadata": {},
   "outputs": [
    {
     "name": "stdout",
     "output_type": "stream",
     "text": [
      "15\n",
      "3\n",
      "6\n"
     ]
    },
    {
     "data": {
      "text/plain": [
       "True"
      ]
     },
     "execution_count": 42,
     "metadata": {},
     "output_type": "execute_result"
    }
   ],
   "source": [
    "# 4.1. D&C approach to summing the items in a list.\n",
    "def sumList(arr):\n",
    "    # base case: list is empty.\n",
    "    if len(arr) == 0:\n",
    "        return 0\n",
    "    # recursive case: add the first item to the result of calling sum() on the rest.\n",
    "    return arr[0] + sum(arr[1:])\n",
    "\n",
    "summed = sumList([1, 2, 3, 4, 5])\n",
    "print(summed)\n",
    "\n",
    "# 4.2. Counting number of items in a list.\n",
    "def numItems(arr):\n",
    "    if len(arr) == 0: return 0\n",
    "    return 1 + numItems(arr[1:])\n",
    "\n",
    "count = numItems([1, 1, 1])\n",
    "print(count)\n",
    "\n",
    "# 4.3. Find the maximum number in a list.\n",
    "# Assumes a minimum of 2 items in the list.\n",
    "def findMax(arr):\n",
    "    if len(arr) == 1:\n",
    "        return arr[0]\n",
    "    maxRest = findMax(arr[1:])\n",
    "    maximum = arr[0] if arr[0] > maxRest else maxRest\n",
    "    return maximum\n",
    "\n",
    "maximum = findMax([1, 4, 6, 0])\n",
    "print(maximum)\n",
    "\n",
    "# 4.4. Binary search implemented in a D&C style.\n",
    "# Note that this function only returns whether the array has the item, not the index of the item.\n",
    "# Could be changed to return index, but that requires more work than I want to put in atm. :)\n",
    "def binSearch(arr, item):\n",
    "    if len(arr) == 1:\n",
    "        return arr[0] == item\n",
    "    mid = len(arr)//2\n",
    "    guess = arr[mid]\n",
    "    if guess == item:\n",
    "        return True\n",
    "    elif item < guess:\n",
    "        return binSearch(arr[:mid], item)\n",
    "    else:\n",
    "        return binSearch(arr[mid + 1:], item)\n",
    "\n",
    "binSearch([1, 2, 3], 5)\n",
    "binSearch([1, 2, 3], 3)"
   ]
  },
  {
   "cell_type": "markdown",
   "metadata": {},
   "source": [
    "## Chapter 4: Quick Sort\n",
    "\n",
    "Here's the gist of it:\n",
    "1. Pick a pivot (random)\n",
    "2. Divide the array into two subarrays: one containing all the number smaller than the pivot, and one with all numbers bigger than the pivot.\n",
    "3. Call quicksort on these subarrays.\n",
    "\n",
    "The base case is an array with $\\leq2$ items. If it's an array with 2 items, you swap 'em if they're in the wrong order. An array of one or zero items can just be returned as is. :)\n",
    "\n",
    "Let's try writing this out for practice (even though Adit also writes out the code in his book)."
   ]
  },
  {
   "cell_type": "code",
   "execution_count": 1,
   "metadata": {},
   "outputs": [
    {
     "data": {
      "text/plain": [
       "[0, 1, 2, 3, 3, 4, 6, 10]"
      ]
     },
     "execution_count": 1,
     "metadata": {},
     "output_type": "execute_result"
    }
   ],
   "source": [
    "# Quick sort, without randomized pivot selection.\n",
    "\n",
    "def quickSort(arr):\n",
    "    # base cases: array is 2 items or smaller.\n",
    "    if len(arr) == 2:\n",
    "        return arr if arr[0] <= arr[1] else [arr[1], arr[0]]\n",
    "    elif len(arr) < 2:\n",
    "        return arr\n",
    "    # recursive case: array needs to be partitioned.\n",
    "    # pick first item as pivot.\n",
    "    pivot = arr[0]\n",
    "    smaller, bigger = [], []\n",
    "    for item in arr[1:]:\n",
    "        if item <= pivot: smaller.append(item)\n",
    "        else: bigger.append(item)\n",
    "    return quickSort(smaller) + [pivot] + quickSort(bigger)\n",
    "\n",
    "arr = [4, 1, 3, 6, 10, 0, 2, 3]\n",
    "quickSort(arr)"
   ]
  },
  {
   "cell_type": "markdown",
   "metadata": {},
   "source": [
    "## Chapter 5: Hash Tables\n",
    "02/01/18\n",
    "\n",
    "Yay, my favorite data structure because it makes things so fast! Yay!\n",
    "\n",
    "Hash tables consist of:\n",
    "1. A *hash function* that, given an input (the key), will consistently output a number unique to the given input (the location of the value). \n",
    "2. An array whose slots contain the values of the hash table.\n",
    "\n",
    "Now, I'm a bit confused about Python's dictionary syntax -- namely the difference between someDict[key] and someDict.get(key). Both should return the value that the key maps to, but I'm not sure if they perform differently when the key-value pair doesn't exist."
   ]
  },
  {
   "cell_type": "code",
   "execution_count": 10,
   "metadata": {},
   "outputs": [],
   "source": [
    "# playing around with python dictionaries.\n",
    "favoriteFoods = {}\n",
    "favoriteFoods[\"Lydia\"] = \"hot pot\"\n",
    "favoriteFoods[\"Ann\"] = \"ramen\"\n",
    "favoriteFoods[\"JC\"] = \"spinach\"\n",
    "favoriteFoods[\"Ben\"] = \"peanut butter and ketchup sandwich\"\n",
    "\n",
    "# this is fine bc JC is part of a key-value pair.\n",
    "#favoriteFoods[\"JC\"]\n",
    "\n",
    "# these are both fine, bc get retrieves it if it can, and returns None if not.\n",
    "# favoriteFoods.get(\"JC\")\n",
    "# print(favoriteFoods.get(\"Annie\"))\n",
    "\n",
    "# this causes an error bc \"Annie\" is not in the dictionary.\n",
    "# favoriteFoods[\"Annie\"]"
   ]
  },
  {
   "cell_type": "markdown",
   "metadata": {},
   "source": [
    "## Chapter 6: Breadth-first Search\n",
    "02/22/18\n",
    "\n",
    "Use queues. DFS uses stacks. More on this later."
   ]
  },
  {
   "cell_type": "markdown",
   "metadata": {},
   "source": [
    "## Chapter 7: Dijkstra's Algorithm"
   ]
  },
  {
   "cell_type": "code",
   "execution_count": null,
   "metadata": {},
   "outputs": [],
   "source": []
  }
 ],
 "metadata": {
  "kernelspec": {
   "display_name": "Python 3",
   "language": "python",
   "name": "python3"
  },
  "language_info": {
   "codemirror_mode": {
    "name": "ipython",
    "version": 3
   },
   "file_extension": ".py",
   "mimetype": "text/x-python",
   "name": "python",
   "nbconvert_exporter": "python",
   "pygments_lexer": "ipython3",
   "version": "3.6.4"
  }
 },
 "nbformat": 4,
 "nbformat_minor": 2
}
